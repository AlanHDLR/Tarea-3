{
  "nbformat": 4,
  "nbformat_minor": 0,
  "metadata": {
    "colab": {
      "name": "Tarea_3  27/09/2021",
      "provenance": [],
      "authorship_tag": "ABX9TyO8GDq4VzE1DCsxLKPtIrJ4",
      "include_colab_link": true
    },
    "kernelspec": {
      "name": "python3",
      "display_name": "Python 3"
    },
    "language_info": {
      "name": "python"
    }
  },
  "cells": [
    {
      "cell_type": "markdown",
      "metadata": {
        "id": "view-in-github",
        "colab_type": "text"
      },
      "source": [
        "<a href=\"https://colab.research.google.com/github/AlanHDLR/Tarea-3/blob/main/Tarea_3_27_09_2021.ipynb\" target=\"_parent\"><img src=\"https://colab.research.google.com/assets/colab-badge.svg\" alt=\"Open In Colab\"/></a>"
      ]
    },
    {
      "cell_type": "code",
      "metadata": {
        "colab": {
          "base_uri": "https://localhost:8080/"
        },
        "id": "JMm0PqbJ8Mi2",
        "outputId": "113c5c00-a352-4bbb-d71e-9d720ed5e911"
      },
      "source": [
        "#Tarea_3 \n",
        "print(\"Detalle: \")\n",
        "\n",
        "#Lista\n",
        "menu_select = ['mesa=3','comensal=2','entrada=','\"Ensalada verde\"','medio=','\"crema de zanahoria\"','fuerte=','\"filete\"', 'adicionales=','\"Filete término medio, la ensalada sin ningun tipo de semilla, Adereso Ranch\"']\n",
        "\n",
        "#Le damos formato\n",
        "for i, l in enumerate(menu_select):\n",
        "  l = l.replace('=',':')\n",
        "  l = l.replace('\"','')\n",
        "  if i == 0 or i == 1:\n",
        "    print(\"\\t\",l.upper())\n",
        "  elif (i+1) %2 != 0:\n",
        "    print(\"\\t\",l.upper(),end=\"\")\n",
        "  else:\n",
        "    print(\"\",l)"
      ],
      "execution_count": 14,
      "outputs": [
        {
          "output_type": "stream",
          "name": "stdout",
          "text": [
            "Detalle: \n",
            "\t MESA:3\n",
            "\t COMENSAL:2\n",
            "\t ENTRADA: Ensalada verde\n",
            "\t MEDIO: crema de zanahoria\n",
            "\t FUERTE: filete\n",
            "\t ADICIONALES: Filete término medio, la ensalada sin ningun tipo de semilla, Adereso Ranch\n"
          ]
        }
      ]
    }
  ]
}